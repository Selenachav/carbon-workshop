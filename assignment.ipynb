{
 "cells": [
  {
   "cell_type": "code",
   "execution_count": null,
   "metadata": {},
   "outputs": [],
   "source": [
    "!pip install csvwlib "
   ]
  },
  {
   "cell_type": "code",
   "execution_count": 1,
   "metadata": {},
   "outputs": [],
   "source": [
    "import pandas as pd\n",
    "from csvwlib import CSVWConverter"
   ]
  },
  {
   "cell_type": "code",
   "execution_count": 2,
   "metadata": {},
   "outputs": [],
   "source": [
    "labels = ['date', 'start', 'end', 'class']\n",
    "\n",
    "data = [('2019-07-06', '11:00', '12:30', 'Ia'),\n",
    "        ('2019-07-07', '12:00', '12:30', 'II')]\n",
    "\n",
    "df = pd.DataFrame.from_records(data, columns=labels)\n",
    "df.to_csv('data.csv', index=False)"
   ]
  },
  {
   "cell_type": "code",
   "execution_count": 4,
   "metadata": {},
   "outputs": [
    {
     "name": "stdout",
     "output_type": "stream",
     "text": [
      "Warning: Column count in metadata does not match embedded metadata\n",
      "@prefix : <https://raw.githubusercontent.com/markusstocker/carbon-workshop/master/data.csv#> .\n",
      "@prefix as: <https://www.w3.org/ns/activitystreams#> .\n",
      "@prefix cc: <http://creativecommons.org/ns#> .\n",
      "@prefix csvw: <http://www.w3.org/ns/csvw#> .\n",
      "@prefix ctag: <http://commontag.org/ns#> .\n",
      "@prefix dc: <http://purl.org/dc/terms/> .\n",
      "@prefix dc11: <http://purl.org/dc/elements/1.1/> .\n",
      "@prefix dcat: <http://www.w3.org/ns/dcat#> .\n",
      "@prefix dcterms: <http://purl.org/dc/terms/> .\n",
      "@prefix dqv: <http://www.w3.org/ns/dqv#> .\n",
      "@prefix duv: <https://www.w3.org/TR/vocab-duv#> .\n",
      "@prefix foaf: <http://xmlns.com/foaf/0.1/> .\n",
      "@prefix gr: <http://purl.org/goodrelations/v1#> .\n",
      "@prefix grddl: <http://www.w3.org/2003/g/data-view#> .\n",
      "@prefix ical: <http://www.w3.org/2002/12/cal/icaltzd#> .\n",
      "@prefix ldp: <http://www.w3.org/ns/ldp#> .\n",
      "@prefix ma: <http://www.w3.org/ns/ma-ont#> .\n",
      "@prefix ns1: <http://purl.obolibrary.org/obo/> .\n",
      "@prefix oa: <http://www.w3.org/ns/oa#> .\n",
      "@prefix og: <http://ogp.me/ns#> .\n",
      "@prefix org: <http://www.w3.org/ns/org#> .\n",
      "@prefix owl: <http://www.w3.org/2002/07/owl#> .\n",
      "@prefix prov: <http://www.w3.org/ns/prov#> .\n",
      "@prefix qb: <http://purl.org/linked-data/cube#> .\n",
      "@prefix rdf: <http://www.w3.org/1999/02/22-rdf-syntax-ns#> .\n",
      "@prefix rdfa: <http://www.w3.org/ns/rdfa#> .\n",
      "@prefix rdfs: <http://www.w3.org/2000/01/rdf-schema#> .\n",
      "@prefix rev: <http://purl.org/stuff/rev#> .\n",
      "@prefix rif: <http://www.w3.org/2007/rif#> .\n",
      "@prefix rr: <http://www.w3.org/ns/r2rml#> .\n",
      "@prefix schema: <http://schema.org/> .\n",
      "@prefix sd: <http://www.w3.org/ns/sparql-service-description#> .\n",
      "@prefix sioc: <http://rdfs.org/sioc/ns#> .\n",
      "@prefix skos: <http://www.w3.org/2004/02/skos/core#> .\n",
      "@prefix skosxl: <http://www.w3.org/2008/05/skos-xl#> .\n",
      "@prefix sosa: <http://www.w3.org/ns/sosa/> .\n",
      "@prefix ssn: <http://www.w3.org/ns/ssn/> .\n",
      "@prefix time: <http://www.w3.org/2006/time#> .\n",
      "@prefix v: <http://rdf.data-vocabulary.org/#> .\n",
      "@prefix vcard: <http://www.w3.org/2006/vcard/ns#> .\n",
      "@prefix void: <http://rdfs.org/ns/void#> .\n",
      "@prefix wdr: <http://www.w3.org/2007/05/powder#> .\n",
      "@prefix wdrs: <http://www.w3.org/2007/05/powder-s#> .\n",
      "@prefix xhv: <http://www.w3.org/1999/xhtml/vocab#> .\n",
      "@prefix xml: <http://www.w3.org/XML/1998/namespace> .\n",
      "@prefix xsd: <http://www.w3.org/2001/XMLSchema#> .\n",
      "\n",
      "<http://avaa.tdata.fi/2019-07-06> a ns1:ENVO_01001372 ;\n",
      "    ns1:OBI_0000999 <http://avaa.tdata.fi/Ia> ;\n",
      "    ns1:RO_0002537 \"11:00:00\"^^xsd:time ;\n",
      "    ns1:RO_0002538 \"12:30:00\"^^xsd:time ;\n",
      "    ns1:STATO_0000093 \"2019-07-06\"^^xsd:date .\n",
      "\n",
      "\n"
     ]
    }
   ],
   "source": [
    "g = CSVWConverter.to_rdf('https://raw.githubusercontent.com/markusstocker/carbon-workshop/master/data.csv', mode='minimal')\n",
    "\n",
    "print(g.serialize(format='ttl').decode('utf-8'))"
   ]
  },
  {
   "cell_type": "code",
   "execution_count": null,
   "metadata": {},
   "outputs": [],
   "source": []
  }
 ],
 "metadata": {
  "kernelspec": {
   "display_name": "Python 3",
   "language": "python",
   "name": "python3"
  },
  "language_info": {
   "codemirror_mode": {
    "name": "ipython",
    "version": 3
   },
   "file_extension": ".py",
   "mimetype": "text/x-python",
   "name": "python",
   "nbconvert_exporter": "python",
   "pygments_lexer": "ipython3",
   "version": "3.7.1"
  }
 },
 "nbformat": 4,
 "nbformat_minor": 2
}
